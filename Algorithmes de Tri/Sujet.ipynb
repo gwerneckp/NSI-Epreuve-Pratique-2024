{
 "cells": [
  {
   "attachments": {},
   "cell_type": "markdown",
   "id": "f1165919",
   "metadata": {},
   "source": [
    "# Exercices tirés de la banque des épreuves pratiques\n",
    "\n",
    "\n",
    "## 🖊️  Exercice 1 : tri par insertion \n",
    "\n",
    "La fonction `tri_insertion` suivante prend en argument une liste `L` et trie cette liste en utilisant la méthode du tri par insertion. \n",
    "\n",
    "Exemples :\n",
    "```python\n",
    ">>> tri_insertion([2,5,-1,7,0,28])\n",
    "[-1, 0, 2, 5, 7, 28]\n",
    ">>> tri_insertion([10,9,8,7,6,5,4,3,2,1,0])\n",
    "[0, 1, 2, 3, 4, 5, 6, 7, 8, 9, 10]\n",
    "\n",
    "``` \n",
    "\n",
    "1. Compléter cette fonction pour qu'elle réponde à la spécification demandée. "
   ]
  },
  {
   "cell_type": "code",
   "execution_count": null,
   "id": "d0502809",
   "metadata": {},
   "outputs": [],
   "source": [
    "def tri_insertion(L):\n",
    "    n = len(L)\n",
    "\n",
    "    # cas du tableau vide\n",
    "    if ...:\n",
    "        return L\n",
    "    for j in range(1,n):\n",
    "        i = j\n",
    "        # A l'étape j, le sous-tableau L[0,j-1] est trié\n",
    "        # et on insère L[j] dans ce sous-tableau en déterminant\n",
    "        # le plus petit i tel que 0 <= i <= j et L[i-1] > L[j].\n",
    "\n",
    "        while i > 0 and L[i-1] > ...:\n",
    "            i = ...\n",
    "\n",
    "        # si i != j, on décale le sous tableau L[i,j-1] d’un cran\n",
    "        # vers la droite et on place L[j] en position i\n",
    "        \n",
    "        temp = L[j]\n",
    "        if i != j:\n",
    "            for k in range(j,i,...):\n",
    "                L[k] = L[...]\n",
    "            L[i] = ...\n",
    "    return L"
   ]
  },
  {
   "attachments": {},
   "cell_type": "markdown",
   "id": "041b7cf4",
   "metadata": {},
   "source": [
    "2. On peut écrire une version récursive du tri par insertion, en passant en argument non seulement une liste `L` mais aussi un  rang `j` tel que la liste `L` est déjà triée jusqu'à l'indice `j-1`. Ceci doit permettre de supprimer la boucle `for` principale dans le code précédent.\n",
    "\n",
    "Compléter le code de cette fonction récursive."
   ]
  },
  {
   "cell_type": "code",
   "execution_count": 2,
   "id": "a3f54b84-3130-4a0c-8a42-6b571789c636",
   "metadata": {},
   "outputs": [
    {
     "data": {
      "text/plain": [
       "[-1, 0, 2, 5, 7, 28]"
      ]
     },
     "execution_count": 2,
     "metadata": {},
     "output_type": "execute_result"
    }
   ],
   "source": [
    "def tri_insertion_recur(L, j) :\n",
    "    if j == len(L) :\n",
    "        return ...\n",
    "    i = j\n",
    "    while i > 0 and L[i-1] > ... :\n",
    "        i = ...\n",
    "    temp = L[j]\n",
    "    if i != j :\n",
    "        for k in range(j,i,...) :\n",
    "            L[k] = L[...]\n",
    "        tab[i] = ...\n",
    "    return tri_insertion_recur(..., ...)\n",
    "\n",
    "# un test\n",
    "tri_insertion_recur([2,5,-1,7,0,28],0)"
   ]
  },
  {
   "attachments": {},
   "cell_type": "markdown",
   "id": "16edd241",
   "metadata": {},
   "source": [
    "## 🖊️  Exercice 2 : tri par sélection\n",
    "\n",
    "Écrire une fonction `tri_selection` qui prend en paramètre une liste `tab` de nombres entiers et qui renvoie le tableau trié par ordre croissant.\n",
    "\n",
    "On utilisera l’algorithme suivant :\n",
    "\n",
    "- on recherche le plus petit élément du tableau, et on l'échange avec l'élément d'indice 0 ;\n",
    "- on recherche le second plus petit élément du tableau, et on l'échange avec l'élément d'indice 1 ;\n",
    "- on continue de cette façon jusqu'à ce que le tableau soit entièrement trié.\n",
    "\n",
    "Exemple :\n",
    "```python\n",
    ">>> tri_selection([1,52,6,-9,12])\n",
    "[-9, 1, 6, 12, 52]\n",
    "```"
   ]
  },
  {
   "cell_type": "code",
   "execution_count": null,
   "id": "e5c676ef",
   "metadata": {},
   "outputs": [],
   "source": []
  },
  {
   "attachments": {},
   "cell_type": "markdown",
   "id": "e5e36f62",
   "metadata": {},
   "source": [
    "## 🖊️  Exercice 3 : tri à bulles\n",
    "\n",
    "La fonction `tri_bulles` prend en paramètre une liste `T` d’entiers non triés et renvoie la liste triée par ordre croissant.\n",
    "\n",
    "Le principe du tri à bulles s'apparente à celui du tri par insertion : il s'agit de décaler des valeurs jusqu'à ce qu'elles atteignent une position convenable. Mais l'idée est ici de faire « remonter » les grandes valeurs vers la fin du tableau. Comme les grosses bulles dans de l'eau pétillante !\n",
    "\n",
    "Voir [ici](https://e-nsi.forge.aeif.fr/tris/03_lents/03_bulles/) une visualisation de ce principe.\n",
    "\n",
    "Le tri à bulles est un tri en place qui commence par placer le plus grand élément en \n",
    "dernière position en parcourant la liste de gauche à droite et en échangeant au passage \n",
    "les éléments voisins mal ordonnés (si la valeur de l’élément d’indice `i` a une valeur \n",
    "strictement supérieure à celle de l’indice `i + 1`, ils sont échangés). Le tri place ensuite \n",
    "en avant-dernière position le plus grand élément de la liste privée de son dernier élément \n",
    "en procédant encore à des échanges d’éléments voisins. Ce principe est répété jusqu’à \n",
    "placer le minimum en première position. \n",
    "\n",
    "Exemple : pour trier la liste `[7, 9, 4, 3]` : \n",
    "\n",
    "* première étape : 7 et 9 ne sont pas échangés, puis 9 et 4 sont échangés, puis 9 et 3 sont échangés, la liste est alors `[7, 4, 3, 9]` \n",
    "\n",
    "* deuxième étape : 7 et 4 sont échangés, puis 7 et 3 sont échangés, la liste est alors `[4, 3, 7, 9]`\n",
    "\n",
    "* troisième étape : 4 et 3 sont échangés, la liste est alors `[3, 4, 7, 9]`\n",
    "\n",
    "1. Compléter le code Python ci-dessous qui implémente la fonction `tri_bulles`."
   ]
  },
  {
   "cell_type": "code",
   "execution_count": null,
   "id": "71b34213",
   "metadata": {},
   "outputs": [],
   "source": [
    "def tri_bulles(T):\n",
    "    n = len(T)\n",
    "    for i in range(...,...,-1):\n",
    "        for j in range(i):\n",
    "            if T[j] > T[...]:\n",
    "                ... = T[j]\n",
    "                T[j] = T[...]\n",
    "                T[j+1] = temp\n",
    "    return T"
   ]
  },
  {
   "cell_type": "code",
   "execution_count": null,
   "id": "436cd239",
   "metadata": {},
   "outputs": [],
   "source": [
    "# test 1\n",
    "tri_bulles([9, 3, 7, 2, 3, 1, 6]) "
   ]
  },
  {
   "cell_type": "code",
   "execution_count": null,
   "id": "3ef22bc8",
   "metadata": {},
   "outputs": [],
   "source": [
    "# test 2\n",
    "tri_bulles([9, 7, 4, 3])"
   ]
  },
  {
   "attachments": {},
   "cell_type": "markdown",
   "id": "f196814d-e63a-4156-a8dd-919c2855604b",
   "metadata": {},
   "source": [
    "2. La complexité en temps d'un tri par sélection ou par insertion est quadratique. La complexité du tri à bulles vous parait-elle être différente ?"
   ]
  },
  {
   "cell_type": "raw",
   "id": "4f6e1f3e-85b6-4a22-893d-82f9d6c9b6c2",
   "metadata": {},
   "source": [
    "🙋 Réponse :"
   ]
  }
 ],
 "metadata": {
  "kernelspec": {
   "display_name": "Python 3 (ipykernel)",
   "language": "python",
   "name": "python3"
  },
  "language_info": {
   "codemirror_mode": {
    "name": "ipython",
    "version": 3
   },
   "file_extension": ".py",
   "mimetype": "text/x-python",
   "name": "python",
   "nbconvert_exporter": "python",
   "pygments_lexer": "ipython3",
   "version": "3.11.5"
  }
 },
 "nbformat": 4,
 "nbformat_minor": 5
}
