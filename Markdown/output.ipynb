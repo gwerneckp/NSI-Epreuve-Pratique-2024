{
 "cells": [
  {
   "cell_type": "code",
   "execution_count": null,
   "id": "ef818606",
   "metadata": {},
   "outputs": [],
   "source": [
    "import math\n",
    "\n",
    "print(\"Enter the radius of the circle: \")"
   ]
  },
  {
   "cell_type": "markdown",
   "id": "a608f0db",
   "metadata": {},
   "source": [
    "Enter the radius of the circle: \n",
    "\n",
    "\n",
    "# exercice entrainement\n",
    "\n",
    "Finir cette fonction\n",
    "\n",
    "![Graphe](Pasted_image.png)"
   ]
  },
  {
   "cell_type": "code",
   "execution_count": null,
   "id": "e3eb19b2",
   "metadata": {},
   "outputs": [],
   "source": [
    "def fonctions(r):\n",
    "    area = math.pi * r**2\n",
    "    return area\n",
    "\n",
    "r = 10\n",
    "print(fonctions(r))"
   ]
  },
  {
   "cell_type": "markdown",
   "id": "562b9517",
   "metadata": {},
   "source": [
    "## Tri Fusion - Diviser pour régner\n",
    "\n",
    "1. **Introduction**\n",
    "\n",
    "Le diviser pour régner est une méthode algorithmique basée sur le principe suivant :\n",
    "\n",
    "On prend un problème (généralement complexe à résoudre), on divise ce problème en une multitude de petits problèmes, l'idée étant que les \"petits problèmes\" seront plus simples à résoudre que le problème original. Une fois les petits problèmes résolus, on recombine les \"petits problèmes résolus\" afin d'obtenir la solution du problème de départ.\n",
    "\n",
    "Le paradigme \"diviser pour régner\" repose donc sur 3 étapes :\n",
    "\n",
    "- **DIVISER :** le problème d'origine est divisé en un certain nombre de sous-problèmes\n",
    "- **RÉGNER :** on résout les sous-problèmes (les sous-problèmes sont plus faciles à résoudre que le problème d'origine)\n",
    "- **COMBINER :** les solutions des sous-problèmes sont combinées afin d'obtenir la solution du problème d'origine.\n",
    "\n",
    "> [!Note] Titre. \n",
    "> test"
   ]
  }
 ],
 "metadata": {},
 "nbformat": 4,
 "nbformat_minor": 5
}
