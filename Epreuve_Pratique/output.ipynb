{
 "cells": [
  {
   "cell_type": "markdown",
   "id": "641f088d",
   "metadata": {},
   "source": [
    "---\n",
    "parent: \"[[Fleeting MOC]]\"\n",
    "tags:\n",
    "  - info\n",
    "  - epreuve_pratique\n",
    "\"type:\": \n",
    "share: \n",
    "publish: \"false\"\n",
    "date: \" 6th May 2024 10:18\"\n",
    "---\n",
    "# Sujet_1\n",
    "\n",
    "## s_1.1\n",
    "\n",
    "Dans cet exercice, un arbre binaire de caractères est stocké sous la forme d’un\n",
    "dictionnaire où les clefs sont les caractères des nœuds de l’arbre et les valeurs, pour\n",
    "chaque clef, la liste des caractères des fils gauche et droit du nœud.\n",
    "\n",
    "On utilise la valeur `''` pour représenter un fils vide.\n",
    "\n",
    "Par exemple, l’arbre\n",
    "\n",
    "![alt text](image.png)\n",
    "\n",
    "\n",
    "est stocké dans"
   ]
  },
  {
   "cell_type": "code",
   "execution_count": null,
   "id": "a6215f4d",
   "metadata": {},
   "outputs": [],
   "source": [
    "a = {'F':['B','G'], 'B':['A','D'], 'A':['',''], 'D':['C','E'], \\\n",
    "'C':['',''], 'E':['',''], 'G':['','I'], 'I':['','H'], \\\n",
    "'H':['','']}\n",
    "\n",
    "# Votre code"
   ]
  },
  {
   "cell_type": "markdown",
   "id": "e271b68a",
   "metadata": {},
   "source": [
    "Écrire une fonction récursive `taille` prenant en paramètres un arbre binaire `arbre` non vide\n",
    "sous la forme d’un dictionnaire et un caractère `lettre` qui est la valeur du sommet de\n",
    "l’arbre, et qui renvoie la taille de l’arbre à savoir le nombre total de nœuds.\n",
    "\n",
    "On observe que, par exemple, `arbre[lettre][0]`, respectivement\n",
    "`arbre[lettre][1]`, permet d’atteindre la clé du sous-arbre gauche, respectivement\n",
    "droit, de l’arbre `arbre` de sommet `lettre`.\n",
    "\n",
    "Exemple :"
   ]
  },
  {
   "cell_type": "code",
   "execution_count": null,
   "id": "11a47e4d",
   "metadata": {},
   "outputs": [],
   "source": [
    "assert taille(a, 'F')==9\n",
    "assert taille(a, 'B')==5\n",
    "assert taille(a, 'I')==2"
   ]
  },
  {
   "cell_type": "markdown",
   "id": "e015f94f",
   "metadata": {},
   "source": [
    "## s_1.2\n",
    "\n",
    "On considère l'algorithme de tri de tableau suivant : à chaque étape, on parcourt le sous-\n",
    "tableau des éléments non rangés et on place le plus petit élément en première position de\n",
    "ce sous-tableau.\n",
    "\n",
    "Exemple avec le tableau : ```t = [41, 55, 21, 18, 12, 6, 25]``` \n",
    "\n",
    "- Étape 1 : on parcourt tous les éléments du tableau, on permute le plus petit élément avec\n",
    "le premier. Le tableau devient `t = [6, 55, 21, 18, 12, 41, 25]`\n",
    "\n",
    "- Étape 2 : on parcourt tous les éléments **sauf le premier**, on permute le plus petit élément\n",
    "trouvé avec le second.  \n",
    "Le tableau devient : ```t = [6, 12, 21, 18, 55, 41, 25]``` \n",
    "\n",
    "Et ainsi de suite. \n",
    "\n",
    "Le programme ci-dessous implémente cet algorithme."
   ]
  },
  {
   "cell_type": "code",
   "execution_count": null,
   "id": "d8048cf5",
   "metadata": {},
   "outputs": [],
   "source": [
    "def echange(tab, i, j):\n",
    "    '''Echange les éléments d'indice i et j dans le tableau tab.'''\n",
    "    temp = ... \n",
    "    tab[i] = ... \n",
    "    tab[j] = ... \n",
    "\n",
    "def tri_selection(tab):\n",
    "    '''Trie le tableau tab dans l'ordre croissant\n",
    "    par la méthode du tri par sélection.'''\n",
    "    N = len(tab)\n",
    "    for k in range(...): \n",
    "        imin = ... \n",
    "        for i in range(..., N): \n",
    "            if tab[i] < ...: \n",
    "                imin = i\n",
    "        echange(tab, ..., ...) "
   ]
  },
  {
   "cell_type": "markdown",
   "id": "ba598083",
   "metadata": {},
   "source": [
    "Compléter le code de cette fonction de façon à obtenir :\n",
    "\n",
    "```python\n",
    "assert tri_selection([41, 55, 21, 18, 12, 6, 25])==[6, 12, 18, 21, 25, 41, 55]\n",
    "```"
   ]
  }
 ],
 "metadata": {},
 "nbformat": 4,
 "nbformat_minor": 5
}
