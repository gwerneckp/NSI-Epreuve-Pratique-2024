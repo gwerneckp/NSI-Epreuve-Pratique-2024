{
 "cells": [
  {
   "cell_type": "markdown",
   "metadata": {},
   "source": [
    "Écrire une fonction `verifie` qui prend en paramètre un tableau de valeurs numériques et qui renvoie `True` si ce tableau est trié dans l’ordre croissant, `False` sinon.\n",
    "\n",
    "Un tableau vide est considéré comme trié.\n",
    "\n",
    "Exemples :\n",
    "\n",
    "```python\n",
    "Exemples :\n",
    ">>> verifie([0, 5, 8, 8, 9])\n",
    "True\n",
    ">>> verifie([8, 12, 4])\n",
    "False\n",
    ">>> verifie([-1, 4])\n",
    "True\n",
    ">>> verifie([])\n",
    "True\n",
    ">>> verifie([5])\n",
    "True\n",
    "```"
   ]
  },
  {
   "cell_type": "code",
   "execution_count": null,
   "metadata": {},
   "outputs": [],
   "source": [
    "# Votre code"
   ]
  },
  {
   "cell_type": "markdown",
   "metadata": {},
   "source": [
    "On considère dans cet exercice l’élection d’un vainqueur à l’issue d’un vote. Les résultats\n",
    "du vote sont stockés dans un tableau : chaque vote exprimé est le nom d’un ou d’une\n",
    "candidate.  \n",
    "\n",
    "Par exemple, les résultats pourraient correspondre au tableau :\n",
    "\n",
    "```python\n",
    "urne = ['A', 'A', 'A', 'B', 'C', 'B', 'C', 'B', 'C', 'B']\n",
    "```\n",
    "\n",
    "indiquant que 3 candidats ont obtenus au moins un vote chacun : A, B et C.\n",
    "\n",
    "On cherche à déterminer le ou les candidats ayant obtenu le plus de suffrages. Pour cela, on propose d’écrire deux fonctions :\n",
    "\n",
    "La fonction depouille doit permettre de compter le nombre de votes exprimés pour chaque artiste. Elle prend en paramètre un tableau et renvoie le résultat dans un dictionnaire dont les clés sont les noms des issues et les valeurs le nombre de votes en leur faveur.\n",
    "La fonction vainqueurs doit désigner le nom du ou des gagnants. Elle prend en paramètre un dictionnaire non vide dont la structure est celle du dictionnaire renvoyé par la fonction depouille et renvoie un tableau. Ce tableau peut donc contenir plusieurs éléments s’il y a des artistes ex- aequo. Compléter les fonctions depouille et vainqueurs ci-après pour qu’elles renvoient les résultats attendus."
   ]
  },
  {
   "cell_type": "code",
   "execution_count": null,
   "metadata": {},
   "outputs": [],
   "source": [
    "\n",
    "def depouille(urne):\n",
    "    '''prend en paramètre une liste de suffrages et renvoie un \n",
    "    dictionnaire avec le nombre de voix pour chaque candidat'''\n",
    "    resultat = ... \n",
    "    for bulletin in urne:\n",
    "        if ...: \n",
    "            resultat[bulletin] = resultat[bulletin] + 1\n",
    "        else:\n",
    "            ...\n",
    "    return resultat\n",
    "\n",
    "def vainqueurs(election):\n",
    "    '''prend en paramètre un dictionnaire non vide avec le nombre de voix\n",
    "    pour chaque candidat et renvoie la liste des vainqueurs'''\n",
    "    nmax = 0\n",
    "    for candidat in election:\n",
    "        if ... > ... : \n",
    "            nmax = ... \n",
    "    liste_finale = [ nom for nom in election if ... ] \n",
    "    return ... \n"
   ]
  },
  {
   "cell_type": "markdown",
   "metadata": {},
   "source": [
    "\n",
    "Exemples d’utilisation :\n",
    "\n",
    "```python\n",
    ">>> depouille([ 'A', 'B', 'A' ])\n",
    "{'A': 2, 'B': 1}\n",
    ">>> depouille([])\n",
    "{}\n",
    ">>> election = depouille(['A', 'A', 'A', 'B', 'C',\n",
    "'B', 'C', 'B', 'C', 'B'])\n",
    ">>> election\n",
    "{'A': 3, 'B': 4, 'C': 3}\n",
    ">>> vainqueurs(election)\n",
    "['B']\n",
    ">>> vainqueurs({ 'A' : 2, 'B' : 2, 'C' : 1})\n",
    "['A', 'B']\n",
    "```"
   ]
  }
 ],
 "metadata": {
  "language_info": {
   "name": "python"
  }
 },
 "nbformat": 4,
 "nbformat_minor": 2
}
